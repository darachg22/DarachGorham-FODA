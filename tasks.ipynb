{
 "cells": [
  {
   "cell_type": "markdown",
   "metadata": {},
   "source": [
    "##### Task 1:\n",
    "The Collatz conjecture1 is a famous unsolved problem in mathematics. The problem is to prove that if you start with any positive integer x and repeatedly apply the function f(x) below, you always get stuck in the repeating sequence 1, 4, 2, 1, 4, 2, . . .\n",
    "f(x) =\n",
    "x ÷ 2 if x is even\n",
    "3x + 1 otherwise\n",
    "For example, starting with the value 10, which is an even number, we divide it by 2 to get 5. Then 5 is an odd number so, we mul tiply by 3 and add 1 to get 16. Then we repeatedly divide by 2 to get 8, 4, 2, 1. Once we are at 1, we go back to 4 and get stuck in the repeating sequence 4, 2, 1 as we suspected.\n",
    "Your task is to verify, using Python, that the conjecture is true for the first 10,000 positive integers"
   ]
  },
  {
   "cell_type": "markdown",
   "metadata": {},
   "source": [
    "For a Previous Assignment, I had created this code to prove the Collatz Conjecture:"
   ]
  },
  {
   "cell_type": "code",
   "execution_count": null,
   "metadata": {},
   "outputs": [],
   "source": [
    "def Collatz(n):\n",
    "    out=[n]\n",
    "    while n>1:\n",
    "        if n%2==0:\n",
    "           n = n//2\n",
    "        else:\n",
    "            n = (n*3)+1\n",
    "        out.append(int(n))\n",
    "    return out\n",
    "\n",
    "n = int(input(\"Enter a number:\"))\n",
    "result = Collatz(n)\n",
    "print(*result)\n"
   ]
  },
  {
   "cell_type": "markdown",
   "metadata": {},
   "source": [
    "This code takes in an input number from the user and then runs this number through the Collatz Conjecture giving the numbers that the input produces when the formula is applied to it. source used: \n",
    "https://stackoverflow.com/questions/13366830/collatz-conjecture-sequence\n",
    "https://www.sanfoundry.com/python-program-test-collatz-conjecture-given-number/"
   ]
  },
  {
   "cell_type": "markdown",
   "metadata": {},
   "source": [
    "I now need to convert the code to fit the brief which entails the program reading the number 10,000 and outputting whether the number fits the collatz Equation i.e. Is the statment true or false. When first considering this I decided that the road I should take is to create an if statement that is then deemed true/false through use of a Boolean Statement. First I removed the last number of lines of the code that returned an output required for the previous assignment: "
   ]
  },
  {
   "cell_type": "code",
   "execution_count": null,
   "metadata": {},
   "outputs": [],
   "source": [
    "def Collatz(n):\n",
    "    out=[n]\n",
    "    while n>1:\n",
    "        if n%2==0:\n",
    "           n = n//2\n",
    "        else:\n",
    "            n = (n*3)+1\n",
    "        out.append(int(n))\n",
    "    return out"
   ]
  },
  {
   "cell_type": "markdown",
   "metadata": {},
   "source": [
    "I then found this tread and the following code which I considered altering or using to turn my code more toward the brief. The code is long and has more detail then I require but it still contained some altered versions of the ideas I had to fit this brief: https://python-forum.io/thread-31024.html "
   ]
  },
  {
   "cell_type": "code",
   "execution_count": null,
   "metadata": {},
   "outputs": [],
   "source": [
    "from itertools import count\n",
    " \n",
    " \n",
    "def ask_int(question):\n",
    "    while True:\n",
    "        user_input = input(question + \": \")\n",
    "        try:\n",
    "            return int(user_input)\n",
    "        except ValueError:\n",
    "            print(f\"'{user_input}' is not a valid integer\")\n",
    " \n",
    " \n",
    "def collatz_generator(start):\n",
    "    if start < 1:\n",
    "        raise ValueError(\"Start must be a positive integer\")\n",
    "    n = start\n",
    "    while n > 1:\n",
    "        if n % 2 == 0:\n",
    "            n = n // 2\n",
    "        else:\n",
    "            n = 3 * n + 1\n",
    "        yield n\n",
    " \n",
    " \n",
    "def collatz_counter(start):\n",
    "    if start < 1:\n",
    "        raise ValueError(\"Start must be a positive integer\")\n",
    "    n = start\n",
    "    for trys in count(1):\n",
    "        if n % 2 == 0:\n",
    "            n = n // 2\n",
    "        else:\n",
    "            n = 3 * n + 1\n",
    "        if n <= 1:\n",
    "            break\n",
    "    return trys\n",
    " \n",
    " \n",
    "def longest_collatz(start=1, end=10000):\n",
    "    maximum_length = 0\n",
    "    maximum_value = 0\n",
    "    for value in range(start, end + 1):\n",
    "        length = collatz_counter(value)\n",
    "        if length > maximum_length:\n",
    "            maximum_length = length\n",
    "            maximum_value = value\n",
    "    return maximum_value, maximum_length\n",
    " \n",
    " \n",
    "if __name__ == \"__main__\":\n",
    "    print(\"Find the longest collatz sequence with given start and end\")\n",
    "    start = ask_int(\"Start Value\")\n",
    "    end = ask_int(\"End Value\")\n",
    "    value, length = longest_collatz(start, end)\n",
    "    print(f\"The start value {value} creates a collatz sequence with {length} values.\")"
   ]
  },
  {
   "cell_type": "markdown",
   "metadata": {},
   "source": [
    "Although these codes were interesting I could not find a way to alter them to fit my needs. I then considered creating a range between 1 and 10000 as a fixed point in the code to meet the task at hand. I then considered that if each number that meets the Collatz Conjecture ends on 1 then I could use this to verify whether the number is true. Although I had done work on lists and ranges before I needed to relearn a number of approaches. A source i used to revisit ranges: https://www.freecodecamp.org/news/python-for-loop-for-i-in-range-example/."
   ]
  },
  {
   "cell_type": "code",
   "execution_count": null,
   "metadata": {},
   "outputs": [],
   "source": [
    "#altering code for task\n",
    "for i in range(1,10000): \n",
    "    Verif = Collatz(i)"
   ]
  },
  {
   "cell_type": "markdown",
   "metadata": {},
   "source": [
    "In this section of code I created a range between 1 and 10000. I then created a group called 'Verif' which takes the numbers in the range, (i), and runs them through the collatz conjecture program I had previously created."
   ]
  },
  {
   "cell_type": "markdown",
   "metadata": {},
   "source": [
    "I then considered how I would like the results to be shown and how to show how the first 10000 integers fit into the Collatz conjecture. With this in mind I added two lists 'True' and 'False' to stream the outputs:"
   ]
  },
  {
   "cell_type": "code",
   "execution_count": null,
   "metadata": {},
   "outputs": [],
   "source": [
    "true = []\n",
    "false = []\n"
   ]
  },
  {
   "cell_type": "markdown",
   "metadata": {},
   "source": [
    "In order to help create this I revisited Boolean Expressions here: https://realpython.com/python-boolean/. I then visited this site to learn more about lists and ranges: https://docs.python.org/3/library/stdtypes.html#range. "
   ]
  },
  {
   "cell_type": "markdown",
   "metadata": {},
   "source": [
    "Next I needed to create a process to check if the number works in the collatz conjecture. Based on the the sites previously mentioned I decided that if each of the last numbers within the 'Collatz' function is one then the number must be thought proven therefore this seemed the most straightforward line of code: "
   ]
  },
  {
   "cell_type": "code",
   "execution_count": null,
   "metadata": {},
   "outputs": [],
   "source": [
    " if_true = Verif [-1] == 1"
   ]
  },
  {
   "cell_type": "markdown",
   "metadata": {},
   "source": [
    "Next I needed a way to add these to the True or false lists. The best way possible here is to add them to the relative list after running them through the Collatz function. Here I used an 'If' and 'else' function. I then used the 'append' function to add each number,(i), to the appropriate list:"
   ]
  },
  {
   "cell_type": "code",
   "execution_count": null,
   "metadata": {},
   "outputs": [],
   "source": [
    "   if is_conjecture_true:\n",
    "        true.append(i)\n",
    "    else:\n",
    "        false.append(i)"
   ]
  },
  {
   "cell_type": "markdown",
   "metadata": {},
   "source": [
    "Finally I needed to print the numbers that are proven and those that are not i.e. The two lists I have created: "
   ]
  },
  {
   "cell_type": "code",
   "execution_count": null,
   "metadata": {},
   "outputs": [],
   "source": [
    "print(\"Collatz conjecture is true:\", true)\n",
    "print(\"Collatz conjecture is false:\", false)"
   ]
  },
  {
   "cell_type": "markdown",
   "metadata": {},
   "source": [
    "When I ran the code there was a syntax error which I had fixed (I had gotten forgottent to add the 'True' list to the line). \n",
    "\n",
    "Questions to consider fixing: are the names of the functions suitable? Can I change the code so that it does not print all of the numbers?\n",
    "\n",
    "Finished code:"
   ]
  },
  {
   "cell_type": "code",
   "execution_count": null,
   "metadata": {},
   "outputs": [],
   "source": [
    "def Collatz(n):\n",
    "    out=[n]\n",
    "    while n>1:\n",
    "        if n%2==0:\n",
    "           n = n//2\n",
    "        else:\n",
    "            n = (n*3)+1\n",
    "        out.append(int(n))\n",
    "    return out\n",
    "\n",
    "true = []\n",
    "false = []\n",
    "\n",
    "\n",
    "for i in range(1,10000): \n",
    "    Verif = Collatz(i) \n",
    "    if_true = Verif [-1] == 1\n",
    "    if if_true: true.append(i)\n",
    "    else: false.append(i)\n",
    "\n",
    "print(\"Collatz conjecture is true:\", true)\n",
    "print(\"Collatz conjecture is false:\", false)\n"
   ]
  },
  {
   "cell_type": "markdown",
   "metadata": {},
   "source": [
    "#### Task 2"
   ]
  },
  {
   "cell_type": "markdown",
   "metadata": {},
   "source": [
    "Give an overview of the famous penguins data set, explaining the types of variables it contains. Suggest the types of variables that should be used to model them in Python, explaining your rationale."
   ]
  },
  {
   "cell_type": "markdown",
   "metadata": {},
   "source": [
    "The Penguins Data set contains information about different species of Penguins. In a simlar vain to the Iris Dataset, the Penguin Dataset, is used to interpret its data in order to hone your data analysis skills. \n",
    "\n",
    "The information features different species, location(island), bill length (mm), bill width(mm), flipper length, bodt mass(g) and sex."
   ]
  },
  {
   "cell_type": "markdown",
   "metadata": {},
   "source": [
    "Here the required required libraries are imported to explore the data and complete this task. pandas and seaborn are used for plotting and displaying the data. The final line imports the dataset for exploration. Reference: https://github.com/mcnakhaee/palmerpenguins "
   ]
  },
  {
   "cell_type": "code",
   "execution_count": null,
   "metadata": {},
   "outputs": [],
   "source": [
    "import pandas as pd\n",
    "import seaborn as sns \n",
    "import matplotlib as plt\n",
    "from palmerpenguins import load_penguins"
   ]
  },
  {
   "cell_type": "markdown",
   "metadata": {},
   "source": [
    "Here the code displays a number of rows of the set. As the set contains 7 columns with 343 rows it is condensed here. We see the varibales mentioned earlier at the top of the row and the data follows. "
   ]
  },
  {
   "cell_type": "code",
   "execution_count": null,
   "metadata": {},
   "outputs": [],
   "source": [
    "penguins = sns.load_dataset(\"penguins\")\n",
    "print(penguins)"
   ]
  },
  {
   "cell_type": "markdown",
   "metadata": {},
   "source": [
    "Unlike the Iris Dataset, this set contains a number of NaN data points i.e. unknown or displayed data points. "
   ]
  },
  {
   "cell_type": "markdown",
   "metadata": {},
   "source": [
    "Upon studying the data I have found that the seven columnns can be divided into three variables for studying the data: \n",
    "\n",
    "Categorical: A categorical variable (also called qualitative variable) refers to a characteristic that can’t be quantifiable. Categorical variables can be either nominal or ordinal.\n",
    "\n",
    "Numeric: A numeric variable (also called quantitative variable) is a quantifiable characteristic whose values are numbers (except numbers which are codes standing up for categories). Numeric variables may be either continuous or discrete. \n",
    "\n",
    "Boolean: Variable/data that has one of two possible values. \n",
    "\n",
    "Reference: https://www150.statcan.gc.ca/n1/edu/power-pouvoir/ch8/5214817-eng.htm "
   ]
  },
  {
   "cell_type": "markdown",
   "metadata": {},
   "source": [
    "#### Columns placed into these variables"
   ]
  },
  {
   "cell_type": "markdown",
   "metadata": {},
   "source": [
    "Categorical: Species\n",
    "\n",
    "Numerical: Bill length, Bill width, Flipper Length, Body Mass\n",
    "\n",
    "Boolean: Sex"
   ]
  },
  {
   "cell_type": "markdown",
   "metadata": {},
   "source": [
    "#### Displaying the variables"
   ]
  },
  {
   "cell_type": "markdown",
   "metadata": {},
   "source": [
    "Species\n",
    "To display the species I would first show a graph of each of the species in order to make an introduction to the data analysis."
   ]
  },
  {
   "cell_type": "markdown",
   "metadata": {},
   "source": [
    "Species:\n",
    "\n",
    "Island:\n",
    "\n",
    "Bill length/width: \n",
    "\n",
    "Flipper Length:\n",
    "\n",
    "Body Mass: \n",
    "\n",
    "Sex:"
   ]
  }
 ],
 "metadata": {
  "kernelspec": {
   "display_name": "Python 3",
   "language": "python",
   "name": "python3"
  },
  "language_info": {
   "codemirror_mode": {
    "name": "ipython",
    "version": 3
   },
   "file_extension": ".py",
   "mimetype": "text/x-python",
   "name": "python",
   "nbconvert_exporter": "python",
   "pygments_lexer": "ipython3",
   "version": "3.10.11"
  },
  "orig_nbformat": 4
 },
 "nbformat": 4,
 "nbformat_minor": 2
}
