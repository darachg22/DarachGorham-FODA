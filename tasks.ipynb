{
 "cells": [
  {
   "cell_type": "code",
   "execution_count": null,
   "metadata": {},
   "outputs": [],
   "source": []
  },
  {
   "cell_type": "markdown",
   "metadata": {},
   "source": [
    "Task 1: The Collatz conjecture1 is a famous unsolved problem in mathematics. The problem is to prove that if you start with any positive integer x and repeatedly apply the function f(x) below, you al ways get stuck in the repeating sequence 1, 4, 2, 1, 4, 2, . . .\n",
    "f(x) =\n",
    "x ÷ 2 if x is even\n",
    "3x + 1 otherwise\n",
    "For example, starting with the value 10, which is an even number, we divide it by 2 to get 5. Then 5 is an odd number so, we mul tiply by 3 and add 1 to get 16. Then we repeatedly divide by 2 to get 8, 4, 2, 1. Once we are at 1, we go back to 4 and get stuck in the repeating sequence 4, 2, 1 as we suspected.\n",
    "Your task is to verify, using Python, that the conjecture is true for the first 10,000 positive integers"
   ]
  },
  {
   "cell_type": "markdown",
   "metadata": {},
   "source": [
    "For a Previous Assignment, I had created this code to prove the Collatz Conjecture:"
   ]
  },
  {
   "cell_type": "code",
   "execution_count": null,
   "metadata": {},
   "outputs": [],
   "source": [
    "def Collatz(n):\n",
    "    out=[n]\n",
    "    while n>1:\n",
    "        if n%2==0:\n",
    "           n = n//2\n",
    "        else:\n",
    "            n = (n*3)+1\n",
    "        out.append(int(n))\n",
    "    return out\n",
    "\n",
    "n = int(input(\"Enter a number:\"))\n",
    "result = Collatz(n)\n",
    "print(*result)\n"
   ]
  },
  {
   "cell_type": "markdown",
   "metadata": {},
   "source": [
    "This code takes in an input number from the user and then runs this number through the Collatz Conjecture giving the numbers that the input produces when the formula is applied to it."
   ]
  },
  {
   "cell_type": "markdown",
   "metadata": {},
   "source": []
  }
 ],
 "metadata": {
  "language_info": {
   "name": "python"
  },
  "orig_nbformat": 4
 },
 "nbformat": 4,
 "nbformat_minor": 2
}
