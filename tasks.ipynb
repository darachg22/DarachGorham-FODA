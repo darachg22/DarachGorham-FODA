{
 "cells": [
  {
   "cell_type": "markdown",
   "metadata": {},
   "source": [
    "Task 1: The Collatz conjecture1 is a famous unsolved problem in mathematics. The problem is to prove that if you start with any positive integer x and repeatedly apply the function f(x) below, you al ways get stuck in the repeating sequence 1, 4, 2, 1, 4, 2, . . .\n",
    "f(x) =\n",
    "x ÷ 2 if x is even\n",
    "3x + 1 otherwise\n",
    "For example, starting with the value 10, which is an even number, we divide it by 2 to get 5. Then 5 is an odd number so, we mul tiply by 3 and add 1 to get 16. Then we repeatedly divide by 2 to get 8, 4, 2, 1. Once we are at 1, we go back to 4 and get stuck in the repeating sequence 4, 2, 1 as we suspected.\n",
    "Your task is to verify, using Python, that the conjecture is true for the first 10,000 positive integers"
   ]
  },
  {
   "cell_type": "markdown",
   "metadata": {},
   "source": [
    "For a Previous Assignment, I had created this code to prove the Collatz Conjecture:"
   ]
  },
  {
   "cell_type": "code",
   "execution_count": null,
   "metadata": {},
   "outputs": [],
   "source": [
    "def Collatz(n):\n",
    "    out=[n]\n",
    "    while n>1:\n",
    "        if n%2==0:\n",
    "           n = n//2\n",
    "        else:\n",
    "            n = (n*3)+1\n",
    "        out.append(int(n))\n",
    "    return out\n",
    "\n",
    "n = int(input(\"Enter a number:\"))\n",
    "result = Collatz(n)\n",
    "print(*result)\n"
   ]
  },
  {
   "cell_type": "markdown",
   "metadata": {},
   "source": [
    "This code takes in an input number from the user and then runs this number through the Collatz Conjecture giving the numbers that the input produces when the formula is applied to it."
   ]
  },
  {
   "cell_type": "markdown",
   "metadata": {},
   "source": [
    "I now need to convert the code to fit the brief which entails the program reading the number 10,000 and outputting whether the number fits the collatz Equation i.e. Is the statment true or false. When first considering this I decided that the road I should take is to create an if statement that is then deemed true/false through use of a Boolean Statement. First I removed the last number of lines of the code that returned an output required for the previous assignment: "
   ]
  },
  {
   "cell_type": "code",
   "execution_count": null,
   "metadata": {},
   "outputs": [],
   "source": [
    "def Collatz(n):\n",
    "    out=[n]\n",
    "    while n>1:\n",
    "        if n%2==0:\n",
    "           n = n//2\n",
    "        else:\n",
    "            n = (n*3)+1\n",
    "        out.append(int(n))\n",
    "    return out"
   ]
  },
  {
   "cell_type": "markdown",
   "metadata": {},
   "source": [
    "I then found this tread and the following code which I considered altering or using to turn my code more toward the brief. The code is long and has more detail then I require but it still contained some altered versions of the ideas I had to fit this brief: https://python-forum.io/thread-31024.html "
   ]
  },
  {
   "cell_type": "code",
   "execution_count": null,
   "metadata": {},
   "outputs": [],
   "source": [
    "from itertools import count\n",
    " \n",
    " \n",
    "def ask_int(question):\n",
    "    while True:\n",
    "        user_input = input(question + \": \")\n",
    "        try:\n",
    "            return int(user_input)\n",
    "        except ValueError:\n",
    "            print(f\"'{user_input}' is not a valid integer\")\n",
    " \n",
    " \n",
    "def collatz_generator(start):\n",
    "    if start < 1:\n",
    "        raise ValueError(\"Start must be a positive integer\")\n",
    "    n = start\n",
    "    while n > 1:\n",
    "        if n % 2 == 0:\n",
    "            n = n // 2\n",
    "        else:\n",
    "            n = 3 * n + 1\n",
    "        yield n\n",
    " \n",
    " \n",
    "def collatz_counter(start):\n",
    "    if start < 1:\n",
    "        raise ValueError(\"Start must be a positive integer\")\n",
    "    n = start\n",
    "    for trys in count(1):\n",
    "        if n % 2 == 0:\n",
    "            n = n // 2\n",
    "        else:\n",
    "            n = 3 * n + 1\n",
    "        if n <= 1:\n",
    "            break\n",
    "    return trys\n",
    " \n",
    " \n",
    "def longest_collatz(start=1, end=10000):\n",
    "    maximum_length = 0\n",
    "    maximum_value = 0\n",
    "    for value in range(start, end + 1):\n",
    "        length = collatz_counter(value)\n",
    "        if length > maximum_length:\n",
    "            maximum_length = length\n",
    "            maximum_value = value\n",
    "    return maximum_value, maximum_length\n",
    " \n",
    " \n",
    "if __name__ == \"__main__\":\n",
    "    print(\"Find the longest collatz sequence with given start and end\")\n",
    "    start = ask_int(\"Start Value\")\n",
    "    end = ask_int(\"End Value\")\n",
    "    value, length = longest_collatz(start, end)\n",
    "    print(f\"The start value {value} creates a collatz sequence with {length} values.\")"
   ]
  },
  {
   "cell_type": "markdown",
   "metadata": {},
   "source": []
  }
 ],
 "metadata": {
  "language_info": {
   "name": "python"
  },
  "orig_nbformat": 4
 },
 "nbformat": 4,
 "nbformat_minor": 2
}
