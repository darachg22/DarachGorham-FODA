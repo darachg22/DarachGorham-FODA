{
 "cells": [
  {
   "cell_type": "markdown",
   "metadata": {},
   "source": [
    "#### Introduction"
   ]
  },
  {
   "cell_type": "markdown",
   "metadata": {},
   "source": [
    "This notebook sets to meet the brief of the five tasks assosiated with the Fundamentals of Data analysis module. The tasks vary with all references and information used found within each Task section."
   ]
  },
  {
   "cell_type": "markdown",
   "metadata": {},
   "source": [
    "##### Task 1:\n",
    "The Collatz conjecture1 is a famous unsolved problem in mathematics. The problem is to prove that if you start with any positive integer x and repeatedly apply the function f(x) below, you always get stuck in the repeating sequence 1, 4, 2, 1, 4, 2, . . .\n",
    "f(x) =\n",
    "x ÷ 2 if x is even\n",
    "3x + 1 otherwise\n",
    "For example, starting with the value 10, which is an even number, we divide it by 2 to get 5. Then 5 is an odd number so, we mul tiply by 3 and add 1 to get 16. Then we repeatedly divide by 2 to get 8, 4, 2, 1. Once we are at 1, we go back to 4 and get stuck in the repeating sequence 4, 2, 1 as we suspected.\n",
    "Your task is to verify, using Python, that the conjecture is true for the first 10,000 positive integers"
   ]
  },
  {
   "cell_type": "markdown",
   "metadata": {},
   "source": [
    "For a Previous Assignment, I had created this code to prove the Collatz Conjecture:"
   ]
  },
  {
   "cell_type": "code",
   "execution_count": null,
   "metadata": {},
   "outputs": [],
   "source": [
    "def Collatz(n):\n",
    "    out=[n]\n",
    "    while n>1:\n",
    "        if n%2==0:\n",
    "           n = n//2\n",
    "        else:\n",
    "            n = (n*3)+1\n",
    "        out.append(int(n))\n",
    "    return out\n",
    "\n",
    "n = int(input(\"Enter a number:\"))\n",
    "result = Collatz(n)\n",
    "print(*result)\n"
   ]
  },
  {
   "cell_type": "markdown",
   "metadata": {},
   "source": [
    "This code takes in an input number from the user and then runs this number through the Collatz Conjecture giving the numbers that the input produces when the formula is applied to it. IT does not work correctly in this notebook but does when seperated. Sources used: \n",
    "https://stackoverflow.com/questions/13366830/collatz-conjecture-sequence\n",
    "https://www.sanfoundry.com/python-program-test-collatz-conjecture-given-number/"
   ]
  },
  {
   "cell_type": "markdown",
   "metadata": {},
   "source": [
    "I now need to convert the code to fit the brief which entails the program reading the number 10,000 and outputting whether the number fits the collatz Equation i.e. Is the statment true or false. When first considering this I decided that the road I should take is to create an if statement that is then deemed true/false through use of a Boolean Statement. First I removed the last number of lines of the code that returned an output required for the previous assignment: "
   ]
  },
  {
   "cell_type": "code",
   "execution_count": null,
   "metadata": {},
   "outputs": [],
   "source": [
    "def Collatz(n):\n",
    "    out=[n]\n",
    "    while n>1:\n",
    "        if n%2==0:\n",
    "           n = n//2\n",
    "        else:\n",
    "            n = (n*3)+1\n",
    "        out.append(int(n))\n",
    "    return out"
   ]
  },
  {
   "cell_type": "markdown",
   "metadata": {},
   "source": [
    "I then found this tread and the following code which I considered altering or using to turn my code more toward the brief. The code is long and has more detail then I require but it still contained some altered versions of the ideas I had to fit this brief: https://python-forum.io/thread-31024.html "
   ]
  },
  {
   "cell_type": "code",
   "execution_count": null,
   "metadata": {},
   "outputs": [],
   "source": [
    "from itertools import count\n",
    " \n",
    " \n",
    "def ask_int(question):\n",
    "    while True:\n",
    "        user_input = input(question + \": \")\n",
    "        try:\n",
    "            return int(user_input)\n",
    "        except ValueError:\n",
    "            print(f\"'{user_input}' is not a valid integer\")\n",
    " \n",
    " \n",
    "def collatz_generator(start):\n",
    "    if start < 1:\n",
    "        raise ValueError(\"Start must be a positive integer\")\n",
    "    n = start\n",
    "    while n > 1:\n",
    "        if n % 2 == 0:\n",
    "            n = n // 2\n",
    "        else:\n",
    "            n = 3 * n + 1\n",
    "        yield n\n",
    " \n",
    " \n",
    "def collatz_counter(start):\n",
    "    if start < 1:\n",
    "        raise ValueError(\"Start must be a positive integer\")\n",
    "    n = start\n",
    "    for trys in count(1):\n",
    "        if n % 2 == 0:\n",
    "            n = n // 2\n",
    "        else:\n",
    "            n = 3 * n + 1\n",
    "        if n <= 1:\n",
    "            break\n",
    "    return trys\n",
    " \n",
    " \n",
    "def longest_collatz(start=1, end=10000):\n",
    "    maximum_length = 0\n",
    "    maximum_value = 0\n",
    "    for value in range(start, end + 1):\n",
    "        length = collatz_counter(value)\n",
    "        if length > maximum_length:\n",
    "            maximum_length = length\n",
    "            maximum_value = value\n",
    "    return maximum_value, maximum_length\n",
    " \n",
    " \n",
    "if __name__ == \"__main__\":\n",
    "    print(\"Find the longest collatz sequence with given start and end\")\n",
    "    start = ask_int(\"Start Value\")\n",
    "    end = ask_int(\"End Value\")\n",
    "    value, length = longest_collatz(start, end)\n",
    "    print(f\"The start value {value} creates a collatz sequence with {length} values.\")"
   ]
  },
  {
   "cell_type": "markdown",
   "metadata": {},
   "source": [
    "Although these codes were interesting I could not find a way to alter them to fit my needs. I then considered creating a range between 1 and 10000 as a fixed point in the code to meet the task at hand. I then considered that if each number that meets the Collatz Conjecture ends on 1 then I could use this to verify whether the number is true. Although I had done work on lists and ranges before I needed to relearn a number of approaches. A source i used to revisit ranges: https://www.freecodecamp.org/news/python-for-loop-for-i-in-range-example/."
   ]
  },
  {
   "cell_type": "code",
   "execution_count": null,
   "metadata": {},
   "outputs": [],
   "source": [
    "#altering code for task\n",
    "for i in range(1,10000): \n",
    "    Verif = Collatz(i)"
   ]
  },
  {
   "cell_type": "markdown",
   "metadata": {},
   "source": [
    "In this section of code I created a range between 1 and 10000. I then created a group called 'Verif' which takes the numbers in the range, (i), and runs them through the collatz conjecture program I had previously created."
   ]
  },
  {
   "cell_type": "markdown",
   "metadata": {},
   "source": [
    "I then considered how I would like the results to be shown and how to show how the first 10000 integers fit into the Collatz conjecture. With this in mind I added two lists 'True' and 'False' to stream the outputs:"
   ]
  },
  {
   "cell_type": "code",
   "execution_count": null,
   "metadata": {},
   "outputs": [],
   "source": [
    "true = []\n",
    "false = []\n"
   ]
  },
  {
   "cell_type": "markdown",
   "metadata": {},
   "source": [
    "In order to help create this I revisited Boolean Expressions here: https://realpython.com/python-boolean/. I then visited this site to learn more about lists and ranges: https://docs.python.org/3/library/stdtypes.html#range. "
   ]
  },
  {
   "cell_type": "markdown",
   "metadata": {},
   "source": [
    "Next I needed to create a process to check if the number works in the collatz conjecture. Based on the the sites previously mentioned I decided that if each of the last numbers within the 'Collatz' function is one then the number must be thought proven therefore this seemed the most straightforward line of code: "
   ]
  },
  {
   "cell_type": "code",
   "execution_count": null,
   "metadata": {},
   "outputs": [],
   "source": [
    "if_true = Verif[-1] == 1"
   ]
  },
  {
   "cell_type": "markdown",
   "metadata": {},
   "source": [
    "Next I needed a way to add these to the True or false lists. The best way possible here is to add them to the relative list after running them through the Collatz function. Here I used an 'If' and 'else' function. I then used the 'append' function to add each number,(i), to the appropriate list:"
   ]
  },
  {
   "cell_type": "code",
   "execution_count": null,
   "metadata": {},
   "outputs": [],
   "source": [
    "if if_true:\n",
    "        true.append(i)\n",
    "else:\n",
    "        false.append(i)"
   ]
  },
  {
   "cell_type": "markdown",
   "metadata": {},
   "source": [
    "Finally I needed to print the numbers that are proven and those that are not i.e. The two lists I have created: "
   ]
  },
  {
   "cell_type": "code",
   "execution_count": null,
   "metadata": {},
   "outputs": [],
   "source": [
    "print(\"Collatz conjecture is true:\", true)\n",
    "print(\"Collatz conjecture is false:\", false)"
   ]
  },
  {
   "cell_type": "markdown",
   "metadata": {},
   "source": [
    "When I ran the code there was a syntax error which I had fixed (I had gotten forgottent to add the 'True' list to the line). \n",
    "\n",
    "Questions to consider fixing: are the names of the functions suitable? Can I change the code so that it does not print all of the numbers?\n",
    "\n",
    "Finished code:"
   ]
  },
  {
   "cell_type": "code",
   "execution_count": null,
   "metadata": {},
   "outputs": [],
   "source": [
    "def Collatz(n):\n",
    "    out=[n]\n",
    "    while n>1:\n",
    "        if n%2==0:\n",
    "           n = n//2\n",
    "        else:\n",
    "            n = (n*3)+1\n",
    "        out.append(int(n))\n",
    "    return out\n",
    "\n",
    "true = []\n",
    "false = []\n",
    "\n",
    "\n",
    "for i in range(1,10000): \n",
    "    Verif = Collatz(i) \n",
    "    if_true = Verif [-1] == 1\n",
    "    if if_true: true.append(i)\n",
    "    else: false.append(i)\n",
    "\n",
    "print(\"Collatz conjecture is true:\", true)\n",
    "print(\"Collatz conjecture is false:\", false)\n"
   ]
  },
  {
   "cell_type": "markdown",
   "metadata": {},
   "source": [
    "#### Task 2"
   ]
  },
  {
   "cell_type": "markdown",
   "metadata": {},
   "source": [
    "Brief: 'Give an overview of the famous penguins data set, explaining the types of variables it contains. Suggest the types of variables that should be used to model them in Python, explaining your rationale.'"
   ]
  },
  {
   "cell_type": "markdown",
   "metadata": {},
   "source": [
    "Unlike the Iris Dataset, this set contains a number of NaN data points i.e. unknown or displayed data points. \n",
    "The Penguins Data set contains information about different species of Penguins. In a simlar vain to the Iris Dataset, the Penguin Dataset, is used to interpret its data in order to hone your data analysis skills. The information features different species, location(island), bill length (mm), bill width(mm), flipper length, bodt mass(g) and sex. Upon studying the data I have found that the seven columnns can be divided into the following variables in order to studying the data: "
   ]
  },
  {
   "cell_type": "markdown",
   "metadata": {},
   "source": [
    "Categorical (Species, Island): A categorical variable (also called qualitative variable) refers to a characteristic that can’t be quantifiable. Categorical variables can be either nominal or ordinal. In python, categorical variables may need to be encoded to convert these to numerical values to best study the data.\n",
    "\n",
    "Numeric/continuous(Bill length, Bill width, Flipper Length, Body Mass): A numeric variable (also called quantitative variable) is a quantifiable characteristic whose values are numbers (except numbers which are codes standing up for categories). Numeric variables may be either continuous or discrete. In python libraries such ans numpy help to interptret and explore Numeric Data. In statitics this is a \n",
    "\n",
    "Boolean/Dichotomous (Sex): Variable/data that has one of two possible values. In python, once might create a boolean expression with one of the sexes being represented by a 1 and the other being represented by a 0. This is also refered to as a Dichotomous variable in Statistics as it contains only '...two categories or levels.'\n",
    "\n",
    "Reference: https://www150.statcan.gc.ca/n1/edu/power-pouvoir/ch8/5214817-eng.htm ,\n",
    "https://statistics.laerd.com/statistical-guides/types-of-variable.php"
   ]
  },
  {
   "cell_type": "markdown",
   "metadata": {},
   "source": [
    "#### Task 3: Probability distribution from the numpy random distributions list"
   ]
  },
  {
   "cell_type": "markdown",
   "metadata": {},
   "source": [
    "Brief: For each of the variables in the penguins data set, suggest what probability distribution from the numpy random distributions list is the most appropriate to model the variable."
   ]
  },
  {
   "cell_type": "markdown",
   "metadata": {},
   "source": [
    "With the above analysis of the nature of each variable found in the Penguins Data set I will now apply this information to each of the 7 categories to find an appropriate probability distribution for modelling each variable. My suggestions are as follows:"
   ]
  },
  {
   "cell_type": "markdown",
   "metadata": {},
   "source": [
    "1.\tSpecies\n",
    "\n",
    "Categorical distribution: The species variable is categorical as it represents three different groups. The categorical distribution is suitable for modelling the probabilities of each category. Np.random.choice may be the best way to represent categorical data. One may create each species as a separate value (1,2,3 or A, B, C) to model the variable. "
   ]
  },
  {
   "cell_type": "markdown",
   "metadata": {},
   "source": [
    "2.\tIsland\n",
    "\n",
    "Categorical distribution: Similarly, the island variable is categorical, and a categorical distribution is appropriate for modelling it. Once again np.random.choice may be used to model the variables in python."
   ]
  },
  {
   "cell_type": "markdown",
   "metadata": {},
   "source": [
    "3.\tSex\n",
    "Categorical distribution:  Once again, as it is a categorical variable, the sex distribution can be effectively modelled using the categorical distribution. Once again the np.random.choice may be the best way to model the data in python. When considering this I investigated as to whether there was a numpy.random package which modelled a Boolean variable but I could not find any."
   ]
  },
  {
   "cell_type": "markdown",
   "metadata": {},
   "source": [
    "4.\tBill Length, Bill Depth, Flipper Length, Body Mass (Continuous):\n",
    "\n",
    "Normal distribution: Bill length, depth and Flipper length are all continuous variables, and the normal distribution may be used in modelling continuous data as it is good to create numerical data. I would then consider using numpy.random.normal to model the data as I used this to synthesise data in a previous assignment and it worked well. I once again look for a numpy.random package to suit my needs."
   ]
  },
  {
   "cell_type": "markdown",
   "metadata": {},
   "source": [
    "Conclusion\n",
    "\n",
    "From the lecture videos, past assignments and doing independent research I found the above to be the way to model the data based on their distributions. When given the appropriate mean and standard deviation I believe the data could be modelled reasonably well using the numpy.random package.\n",
    "References used: https://stackoverflow.com/questions/41464753/generate-random-numbers-from-lognormal-distribution-in-python\n"
   ]
  },
  {
   "cell_type": "markdown",
   "metadata": {},
   "source": [
    "#### Task 4:  Plot the entropy of the total number of heads versus p."
   ]
  },
  {
   "cell_type": "markdown",
   "metadata": {},
   "source": [
    "Brief: Suppose you are flipping two coins, each with a probability p of giving heads. Plot the entropy of the total number of heads versus p."
   ]
  },
  {
   "cell_type": "markdown",
   "metadata": {},
   "source": [
    "Code given in lecture:"
   ]
  },
  {
   "cell_type": "code",
   "execution_count": null,
   "metadata": {},
   "outputs": [],
   "source": [
    "# Numerical arrays and random numbers.\n",
    "import numpy as np\n",
    "\n",
    "# Plots.\n",
    "import matplotlib.pyplot as plt \n",
    "\n",
    "# The Bernoulli distribution is just the binomial with the first parameter as 1.\n",
    "def bernoulli(p, size=None):\n",
    "  return np.random.binomial(1, p, size)\n",
    "\n",
    "# Flipping two coins.\n",
    "rand_coins = np.random.binomial(2, 0.5, 100000)\n",
    "\n",
    "# Show array.\n",
    "rand_coins\n"
   ]
  },
  {
   "cell_type": "markdown",
   "metadata": {},
   "source": [
    "Plotting given in lecture"
   ]
  },
  {
   "cell_type": "code",
   "execution_count": null,
   "metadata": {},
   "outputs": [],
   "source": [
    "# Create an empty plot.\n",
    "fig, ax = plt.subplots(figsize=(12, 4))\n",
    "\n",
    "# Count the unqiue values in the array.\n",
    "x, counts = np.unique(rand_coins, return_counts=True)\n",
    "\n",
    "# Create a bar chart of rand_coins.\n",
    "ax.bar(x, counts)\n",
    "\n",
    "# Make the x axis look sensible.\n",
    "ax.set_xticks(x);"
   ]
  },
  {
   "cell_type": "markdown",
   "metadata": {},
   "source": [
    "When first investigatinghow to complete this task I considered and invertigated a number of codes, some of which are present in the references. The one most relative to the task is found below and is a direct copy from the webpage:"
   ]
  },
  {
   "cell_type": "code",
   "execution_count": null,
   "metadata": {},
   "outputs": [],
   "source": [
    "# compare probability distributions vs entropy\n",
    "from math import log2\n",
    "from matplotlib import pyplot\n",
    "\n",
    "# calculate entropy\n",
    "def entropy(events, ets=1e-15):\n",
    "\treturn -sum([p * log2(p + ets) for p in events])\n",
    "\n",
    "# define probabilities\n",
    "probs = [0.0, 0.1, 0.2, 0.3, 0.4, 0.5]\n",
    "# create probability distribution\n",
    "dists = [[p, 1.0 - p] for p in probs]\n",
    "# calculate entropy for each distribution\n",
    "ents = [entropy(d) for d in dists]\n",
    "# plot probability distribution vs entropy\n",
    "pyplot.plot(probs, ents, marker='.')\n",
    "pyplot.title('Probability Distribution vs Entropy')\n",
    "pyplot.xticks(probs, [str(d) for d in dists])\n",
    "pyplot.xlabel('Probability Distribution')\n",
    "pyplot.ylabel('Entropy (bits)')\n",
    "pyplot.show()\n",
    "\n",
    "#https://machinelearningmastery.com/what-is-information-entropy/"
   ]
  },
  {
   "cell_type": "markdown",
   "metadata": {},
   "source": [
    "I believe this code completes the task but int his case it completes it considering the probability distribution of a dice. With this as a skeleton, I then set about setting it up so it completes a similar output but instead using two coin flips. The beginning of the code could remain the same with the same libraries (math and Matplotlib), being used. Also the Calculating entropy section could be used. "
   ]
  },
  {
   "cell_type": "code",
   "execution_count": null,
   "metadata": {},
   "outputs": [],
   "source": [
    "# compare probability distributions vs entropy for two coin flips\n",
    "from math import log2\n",
    "from matplotlib import pyplot\n",
    "\n",
    "# calculate entropy\n",
    "def entropy(events, ets=1e-15):\n",
    "    return -sum([p * log2(p + ets) for p in events])\n"
   ]
  },
  {
   "cell_type": "markdown",
   "metadata": {},
   "source": [
    "The next section adapted the probability to two coin flips. I decided to not stray from the float numbers as the using integers caused issues so each float number represents a different outcome (HH, TH and so on). "
   ]
  },
  {
   "cell_type": "code",
   "execution_count": null,
   "metadata": {},
   "outputs": [],
   "source": [
    "# define probabilities for two coin flips\n",
    "probs = [0.0, 0.1, 0.2, 0.3, 0.4, 0.5]"
   ]
  },
  {
   "cell_type": "markdown",
   "metadata": {},
   "source": [
    "The next section creates the probability distribution for the coin flip. This was the trickiest part to understand and adapt as I needed to change this to suit the brief. This section creates two loops, an inner loop and an outer loop. The loops go through each possible outcome and move on when one is saved. \n",
    "\n",
    "references: https://www.w3schools.com/python/python_lists_comprehension.asp"
   ]
  },
  {
   "cell_type": "code",
   "execution_count": null,
   "metadata": {},
   "outputs": [],
   "source": [
    "# create probability distribution for two coin flips\n",
    "dists = [[p1 * p2 for p1 in probs] for p2 in probs]"
   ]
  },
  {
   "cell_type": "markdown",
   "metadata": {},
   "source": [
    "Finally after altering the parts needed, I returned to the skeleton code to print the data."
   ]
  },
  {
   "cell_type": "code",
   "execution_count": null,
   "metadata": {},
   "outputs": [],
   "source": [
    "\n",
    "# calculate entropy for each distribution\n",
    "ents = [entropy(d) for d in dists]\n",
    "# plot probability distribution vs entropy\n",
    "pyplot.plot(probs, ents, marker='.')\n",
    "pyplot.title('Probability Distribution vs Entropy (Two Coin Flips)')\n",
    "pyplot.xticks(probs, [str(d) for d in dists])\n",
    "pyplot.xlabel('Probability Distribution')\n",
    "pyplot.ylabel('Entropy')\n",
    "pyplot.show()"
   ]
  },
  {
   "cell_type": "markdown",
   "metadata": {},
   "source": [
    "Summary: the entropy and probability distribution is plotted above. Although the graph contains too many numbers at the bottom. When the probability of heads is low, the entropy is also low as there is less uncertainty the probability of heads is either low or high. As probability increases so too does the entropy."
   ]
  },
  {
   "cell_type": "markdown",
   "metadata": {},
   "source": [
    "References: \n",
    "https://machinelearningmastery.com/what-is-information-entropy/\n",
    "\n",
    "https://medium.com/geekculture/how-to-calculate-the-entropy-of-an-entire-language-d17135b01282\n",
    "\n",
    "https://jaketae.github.io/study/information-entropy/\n",
    "\n",
    "https://stackoverflow.com/questions/21761630/using-python-to-analyse-coin-tossing-statistics \n",
    "\n",
    "https://docs.scipy.org/doc/scipy/reference/generated/scipy.stats.entropy.html \n",
    "\n",
    "https://stackoverflow.com/questions/30867312/how-to-calculate-the-entropy-of-a-coin-flip\n"
   ]
  },
  {
   "cell_type": "markdown",
   "metadata": {},
   "source": [
    "#### Task 5: Displaying the variables"
   ]
  },
  {
   "cell_type": "markdown",
   "metadata": {},
   "source": [
    "Here the required required libraries are imported to explore the data and complete this task. pandas and seaborn are used for plotting and displaying the data. The final line imports the dataset for exploration. Reference: https://github.com/mcnakhaee/palmerpenguins "
   ]
  },
  {
   "cell_type": "code",
   "execution_count": null,
   "metadata": {},
   "outputs": [],
   "source": [
    "import seaborn as sns\n",
    "import matplotlib.pyplot as plt"
   ]
  },
  {
   "cell_type": "markdown",
   "metadata": {},
   "source": [
    "Species: To display the species I would first show a pie chart of each of the species in order to make an introduction to the data analysis. Reference code used: https://datatofish.com/pie-chart-matplotlib/ "
   ]
  },
  {
   "cell_type": "code",
   "execution_count": null,
   "metadata": {},
   "outputs": [],
   "source": [
    "penguins = sns.load_dataset(\"penguins\")\n",
    "species_counts = penguins['species'].value_counts()\n",
    "\n",
    "plt.figure(figsize=(8, 8))\n",
    "plt.pie(species_counts, labels=species_counts.index, autopct='%1.1f%%', startangle=90)\n",
    "plt.title('Penguin Species')\n",
    "plt.axis(\"equal\")  \n",
    "plt.show()"
   ]
  },
  {
   "cell_type": "markdown",
   "metadata": {},
   "source": [
    "Island: I used the same pie chart structure to create one for the representation of the islands the penguins are found on. I felt this best showed the data as there are three islands. "
   ]
  },
  {
   "cell_type": "code",
   "execution_count": null,
   "metadata": {},
   "outputs": [],
   "source": [
    "island_counts = penguins['island'].value_counts()\n",
    "\n",
    "plt.pie(island_counts, labels=island_counts.index, autopct='%1.1f%%', startangle=90, colors=sns.color_palette('Set3'))\n",
    "plt.title('Distribution of Penguins by Island')\n",
    "plt.axis(\"equal\")  # Ensures a circular pie\n",
    "plt.show()"
   ]
  },
  {
   "cell_type": "markdown",
   "metadata": {},
   "source": [
    "Bill length/width: Here I decided to display the bill length and width with a histogram before comparing both with a scatter plot. I felt this the best way to display the frequency of the lengths and widths before comparing both together with the species. I have used these representations on previous assignments, particularily on an Iris Data set exploration last year.\n",
    "References: https://datatofish.com/plot-histogram-python/"
   ]
  },
  {
   "cell_type": "code",
   "execution_count": null,
   "metadata": {},
   "outputs": [],
   "source": [
    "#length Histogram\n",
    "plt.hist(penguins['bill_length_mm'].dropna(), bins=20)\n",
    "plt.title('Bill Length Distribution')\n",
    "plt.xlabel('Bill Length (mm)')\n",
    "plt.ylabel('Frequency')\n",
    "plt.show()\n",
    "#width Histogram\n",
    "plt.hist(penguins['bill_depth_mm'].dropna(), bins=20)\n",
    "plt.title('Bill Depth Distribution')\n",
    "plt.xlabel('Bill Depth (mm)')\n",
    "plt.ylabel('Frequency')\n",
    "plt.show()\n",
    "#Scatter Plot\n",
    "plt.figure(figsize=(8, 6))\n",
    "sns.scatterplot(x='bill_length_mm', y='bill_depth_mm', data=penguins, hue='species', palette='Set2', s=70)\n",
    "plt.title('Scatter Plot of Bill Length vs. Bill Depth')\n",
    "plt.xlabel('Bill Length (mm)')\n",
    "plt.ylabel('Bill Depth (mm)')\n",
    "plt.show()"
   ]
  },
  {
   "cell_type": "markdown",
   "metadata": {},
   "source": [
    "Flipper Length: For Flipper Length I considered using another histogram but decided that a boxplot may be better to represent the data. Once again I have used boxplots in various assignments and find them great in representing compartative lengths."
   ]
  },
  {
   "cell_type": "code",
   "execution_count": null,
   "metadata": {},
   "outputs": [],
   "source": [
    "plt.figure(figsize=(8, 6))\n",
    "sns.boxplot(x='flipper_length_mm', data=penguins, color='skyblue')\n",
    "plt.title('Boxplot of Flipper Length')\n",
    "plt.xlabel('Flipper Length (mm)')\n",
    "plt.show()"
   ]
  },
  {
   "cell_type": "markdown",
   "metadata": {},
   "source": [
    "Body Mass: Again, here I considered another boxplot or KDE to display the data but found that the histogram best represented the information. "
   ]
  },
  {
   "cell_type": "code",
   "execution_count": null,
   "metadata": {},
   "outputs": [],
   "source": [
    "plt.figure(figsize=(8, 6))\n",
    "plt.hist(penguins['body_mass_g'].dropna(), bins=20, color='skyblue', edgecolor='black')\n",
    "plt.title('Body Mass Distribution')\n",
    "plt.xlabel('Body Mass (g)')\n",
    "plt.ylabel('Frequency')\n",
    "plt.show()"
   ]
  },
  {
   "cell_type": "markdown",
   "metadata": {},
   "source": [
    "Sex: As there are only two outputs for this, I once again found the historgam the best way to represent the data. "
   ]
  },
  {
   "cell_type": "code",
   "execution_count": null,
   "metadata": {},
   "outputs": [],
   "source": [
    "plt.figure(figsize=(10, 8))\n",
    "sns.histplot(data=penguins, x='sex', bins=20, palette='Set2', multiple='stack')\n",
    "plt.title('Sex of Penguins')\n",
    "plt.xlabel('Sex')\n",
    "plt.ylabel('Frequency')\n",
    "plt.show()"
   ]
  }
 ],
 "metadata": {
  "kernelspec": {
   "display_name": "Python 3",
   "language": "python",
   "name": "python3"
  },
  "language_info": {
   "codemirror_mode": {
    "name": "ipython",
    "version": 3
   },
   "file_extension": ".py",
   "mimetype": "text/x-python",
   "name": "python",
   "nbconvert_exporter": "python",
   "pygments_lexer": "ipython3",
   "version": "3.10.11"
  },
  "orig_nbformat": 4
 },
 "nbformat": 4,
 "nbformat_minor": 2
}
